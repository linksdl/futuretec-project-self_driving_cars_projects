{
 "cells": [
  {
   "cell_type": "code",
   "execution_count": 9,
   "id": "618fe012",
   "metadata": {},
   "outputs": [],
   "source": [
    "import tensorflow as tf\n",
    "from waymo_open_dataset import dataset_pb2 as open_dataset\n"
   ]
  },
  {
   "cell_type": "code",
   "execution_count": 10,
   "id": "7a44707e",
   "metadata": {},
   "outputs": [],
   "source": [
    "# load the .tfrocrd 文件\n",
    "train_files = 'training_segment-1005081002024129653_5313_150_5333_150_with_camera_labels.tfrecord'\n",
    "train_set = tf.data.TFRecordDataset(train_files, compression_type='')"
   ]
  },
  {
   "cell_type": "code",
   "execution_count": 13,
   "id": "19c39d4a",
   "metadata": {},
   "outputs": [],
   "source": [
    "for i, data in enumerate(train_set):\n",
    "    frame = open_dataset.Frame()\n",
    "    frame.ParseFromString(bytearray(data.numpy()))"
   ]
  },
  {
   "cell_type": "code",
   "execution_count": 17,
   "id": "0ec8e173",
   "metadata": {},
   "outputs": [],
   "source": [
    "filename = 'demo.jpeg'"
   ]
  },
  {
   "cell_type": "code",
   "execution_count": 18,
   "id": "818690de",
   "metadata": {},
   "outputs": [],
   "source": [
    "from PIL import Image\n",
    "import io\n",
    "image = Image.open(io.BytesIO(frame.images[0].image))\n",
    "image.save(filename, 'JPEG')"
   ]
  },
  {
   "cell_type": "code",
   "execution_count": null,
   "id": "94d4e0cd",
   "metadata": {},
   "outputs": [],
   "source": []
  },
  {
   "cell_type": "code",
   "execution_count": null,
   "id": "4d1f1f78",
   "metadata": {},
   "outputs": [],
   "source": []
  }
 ],
 "metadata": {
  "kernelspec": {
   "display_name": "Python 3",
   "language": "python",
   "name": "python3"
  },
  "language_info": {
   "codemirror_mode": {
    "name": "ipython",
    "version": 3
   },
   "file_extension": ".py",
   "mimetype": "text/x-python",
   "name": "python",
   "nbconvert_exporter": "python",
   "pygments_lexer": "ipython3",
   "version": "3.6.9"
  }
 },
 "nbformat": 4,
 "nbformat_minor": 5
}
